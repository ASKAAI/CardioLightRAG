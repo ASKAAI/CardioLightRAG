{
 "cells": [
  {
   "cell_type": "markdown",
   "id": "b24ac648",
   "metadata": {},
   "source": [
    "# CARDIO-LR Integrated Demo Notebook\n",
    "\n",
    "This notebook combines functionality from all existing notebooks to demonstrate the full capabilities of the CARDIO-LR system."
   ]
  },
  {
   "cell_type": "markdown",
   "id": "4a125223",
   "metadata": {},
   "source": [
    "## Setup\n",
    "\n",
    "Ensure all dependencies are installed and the system is initialized."
   ]
  },
  {
   "cell_type": "code",
   "execution_count": 1,
   "id": "19e9dfa7",
   "metadata": {},
   "outputs": [
    {
     "name": "stdout",
     "output_type": "stream",
     "text": [
      "Initializing Cardiology LightRAG system...\n",
      "Using device: cuda\n",
      "Loading retrieval system...\n"
     ]
    },
    {
     "name": "stderr",
     "output_type": "stream",
     "text": [
      "No sentence-transformers model found with name dmis-lab/biobert-v1.1. Creating a new one with mean pooling.\n"
     ]
    },
    {
     "name": "stdout",
     "output_type": "stream",
     "text": [
      "Loading knowledge graph components...\n",
      "Subgraph extractor using device: cuda\n",
      "Loading integrated knowledge graph...\n",
      "Knowledge graph loaded with 3454254 nodes and 6648456 edges\n",
      "Creating node and relation mappings...\n",
      "Knowledge graph loaded with 3454254 nodes and 6648456 edges\n",
      "Creating node and relation mappings...\n",
      "Created mappings for 3454254 nodes and 10 relation types\n",
      "Loading GNN model for path selection...\n",
      "Created mappings for 3454254 nodes and 10 relation types\n",
      "Loading GNN model for path selection...\n",
      "No pre-trained GNN model found. Using untrained model.\n",
      "Loading generator and validation components...\n",
      "Loading AutoTokenizer and AutoModelForCausalLM...\n",
      "No pre-trained GNN model found. Using untrained model.\n",
      "Loading generator and validation components...\n",
      "Loading AutoTokenizer and AutoModelForCausalLM...\n"
     ]
    },
    {
     "name": "stderr",
     "output_type": "stream",
     "text": [
      "Device set to use cpu\n",
      "Device set to use cpu\n",
      "Device set to use cpu\n"
     ]
    },
    {
     "name": "stdout",
     "output_type": "stream",
     "text": [
      "TraceabilityLogger: Successfully loaded original knowledge graph\n",
      "Subgraph extractor using device: cuda\n",
      "Loading integrated knowledge graph...\n",
      "Knowledge graph loaded with 3454254 nodes and 6648456 edges\n",
      "Creating node and relation mappings...\n",
      "Knowledge graph loaded with 3454254 nodes and 6648456 edges\n",
      "Creating node and relation mappings...\n",
      "Created mappings for 3454254 nodes and 10 relation types\n",
      "Cardiology LightRAG system initialized and ready!\n",
      "System initialized successfully!\n",
      "Created mappings for 3454254 nodes and 10 relation types\n",
      "Cardiology LightRAG system initialized and ready!\n",
      "System initialized successfully!\n"
     ]
    }
   ],
   "source": [
    "# Import required libraries\n",
    "import os\n",
    "import sys\n",
    "import json\n",
    "import pandas as pd\n",
    "import numpy as np\n",
    "import networkx as nx\n",
    "import matplotlib.pyplot as plt\n",
    "from IPython.display import display, Markdown\n",
    "\n",
    "# Add parent directory to path for imports\n",
    "sys.path.append('..')\n",
    "\n",
    "# Import system components\n",
    "from pipeline import CardiologyLightRAG\n",
    "\n",
    "# Initialize the system\n",
    "system = CardiologyLightRAG()\n",
    "print(\"System initialized successfully!\")"
   ]
  },
  {
   "cell_type": "markdown",
   "id": "f166f042",
   "metadata": {},
   "source": [
    "## Demonstration: Full Pipeline Integration\n",
    "\n",
    "Run a query through the complete pipeline to showcase its capabilities."
   ]
  },
  {
   "cell_type": "code",
   "execution_count": 3,
   "id": "a8857d8b",
   "metadata": {},
   "outputs": [
    {
     "name": "stderr",
     "output_type": "stream",
     "text": [
      "The attention mask and the pad token id were not set. As a consequence, you may observe unexpected behavior. Please pass your input's `attention_mask` to obtain reliable results.\n",
      "Setting `pad_token_id` to `eos_token_id`:50256 for open-end generation.\n"
     ]
    },
    {
     "name": "stdout",
     "output_type": "stream",
     "text": [
      "STAGE 1: Performing hybrid retrieval...\n",
      "Extracting medical entities...\n",
      "STAGE 2: Generating knowledge subgraph...\n",
      "Warning: No seed nodes found for entities: []\n",
      "STAGE 3: Running GNN path selection...\n",
      "TraceabilityLogger: No subgraph generated - insufficient entity matches\n",
      "STAGE 4: Generating clinical answer...\n",
      "STAGE 5: Validating clinical accuracy...\n"
     ]
    },
    {
     "data": {
      "text/markdown": [
       "**Query:** What are the first-line treatments for stable angina?"
      ],
      "text/plain": [
       "<IPython.core.display.Markdown object>"
      ]
     },
     "metadata": {},
     "output_type": "display_data"
    },
    {
     "data": {
      "text/markdown": [
       "**Answer:** ## Retrieved Medical Knowledge\n",
       "**Relevant Documents:**\n",
       "1. Question: What is a lipin 1 protein doing?\n",
       "...\n",
       "\n",
       "2. Question: What is the difference between CRISPR-Cas12a and CRISPR-Cpf1?\n",
       "Answer: None...\n",
       "\n",
       "3. Question: What is a spillover event?\n",
       "...\n",
       "\n",
       "\n",
       "## Knowledge Graph Information\n",
       "No relevant knowledge graph information found.\n",
       "\n",
       "\n",
       "Question: What are the first-line treatments for stable angina?\n",
       "Answer: None...\n",
       "\n",
       "4. Question: What is the first-line treatment for non-melanoma skin cancer?\n",
       "\n",
       "...\n",
       "\n",
       "5. Question: What is the first-line treatment for non-melanoma skin cancer?\n",
       "\n",
       "...\n",
       "\n",
       "6. Question: What is the first-line treatment for non-melanoma skin cancer?\n",
       "\n",
       "...\n",
       "\n",
       "7. Question: What is the first-line treatment for non\n",
       "\n",
       "*Validation Note: Contradiction detected: Potential hallucination: Entity 'angina' not found in source context*"
      ],
      "text/plain": [
       "<IPython.core.display.Markdown object>"
      ]
     },
     "metadata": {},
     "output_type": "display_data"
    },
    {
     "data": {
      "text/markdown": [
       "**Explanation:** ## Clinical Reasoning Report\n",
       "\n",
       "**Question:** What are the first-line treatments for stable angina?\n",
       "\n",
       "### Evidence Sources\n",
       "**Relevant Medical Literature:**\n",
       "1. Question: What is a lipin 1 protein doing?\n",
       "\n",
       "2. Question: What is the difference between CRISPR-Cas12a and CRISPR-Cpf1?\n",
       "Answer: None\n",
       "3. Question: What is a spillover event?\n",
       "\n",
       "\n",
       "**Medical Concepts Considered:**\n",
       "\n",
       "**Clinical Relationships Used:**\n",
       "\n",
       "*This response was generated based on current medical literature and knowledge graphs including UMLS, SNOMED CT, and DrugBank.*"
      ],
      "text/plain": [
       "<IPython.core.display.Markdown object>"
      ]
     },
     "metadata": {},
     "output_type": "display_data"
    }
   ],
   "source": [
    "# Define a query\n",
    "query = \"What are the first-line treatments for stable angina?\"\n",
    "\n",
    "# Process the query\n",
    "answer, explanation = system.process_query(query)\n",
    "\n",
    "# Display the results\n",
    "display(Markdown(f\"**Query:** {query}\"))\n",
    "display(Markdown(f\"**Answer:** {answer}\"))\n",
    "display(Markdown(f\"**Explanation:** {explanation}\"))"
   ]
  },
  {
   "cell_type": "markdown",
   "id": "6b9b7c5e",
   "metadata": {},
   "source": [
    "## Visualization: Query Results\n",
    "\n",
    "Below is a graphical representation of the retrieved medical knowledge and clinical reasoning report."
   ]
  },
  {
   "cell_type": "code",
   "execution_count": null,
   "id": "631f886c",
   "metadata": {},
   "outputs": [],
   "source": [
    "# Visualize the retrieved medical knowledge\n",
    "import matplotlib.pyplot as plt\n",
    "import networkx as nx\n",
    "\n",
    "# Create a graph to represent relationships\n",
    "G = nx.Graph()\n",
    "\n",
    "# Add nodes and edges based on explanation\n",
    "G.add_node('Query', color='blue')\n",
    "G.add_node('Answer', color='green')\n",
    "G.add_node('Explanation', color='red')\n",
    "G.add_edge('Query', 'Answer')\n",
    "G.add_edge('Answer', 'Explanation')\n",
    "\n",
    "# Draw the graph\n",
    "pos = nx.spring_layout(G)\n",
    "colors = [G.nodes[node]['color'] for node in G.nodes]\n",
    "nx.draw(G, pos, with_labels=True, node_color=colors)\n",
    "plt.title('Query Results Visualization')\n",
    "plt.show()"
   ]
  },
  {
   "cell_type": "markdown",
   "id": "0b4a1509",
   "metadata": {},
   "source": [
    "## Summary of Results\n",
    "\n",
    "The system retrieved relevant medical knowledge and generated a clinical reasoning report based on the query."
   ]
  },
  {
   "cell_type": "code",
   "execution_count": null,
   "id": "d3cde1bf",
   "metadata": {},
   "outputs": [],
   "source": [
    "# Display a summary of the results\n",
    "summary = f\"Query: {query}\n",
    "\n",
    "Answer: {answer}\n",
    "\n",
    "Explanation: {explanation}\"\n",
    "print(summary)"
   ]
  }
 ],
 "metadata": {
  "kernelspec": {
   "display_name": "Python 3",
   "language": "python",
   "name": "python3"
  },
  "language_info": {
   "codemirror_mode": {
    "name": "ipython",
    "version": 3
   },
   "file_extension": ".py",
   "mimetype": "text/x-python",
   "name": "python",
   "nbconvert_exporter": "python",
   "pygments_lexer": "ipython3",
   "version": "3.11.11"
  }
 },
 "nbformat": 4,
 "nbformat_minor": 5
}
