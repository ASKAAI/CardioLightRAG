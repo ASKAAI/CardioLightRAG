{
 "cells": [
  {
   "cell_type": "markdown",
   "id": "c4c3eb9f",
   "metadata": {},
   "source": [
    "# Cardiology LightRAG Clinical QA System\n",
    "\n",
    "This notebook demonstrates the CARDIO-LR system for answering cardiology-related questions with patient context integration."
   ]
  },
  {
   "cell_type": "markdown",
   "id": "0f94d8cb",
   "metadata": {},
   "source": [
    "## Setup and Dependency Check\n",
    "\n",
    "First, let's ensure all required packages are installed correctly."
   ]
  },
  {
   "cell_type": "code",
   "execution_count": 1,
   "id": "d0f09a4d",
   "metadata": {},
   "outputs": [
    {
     "name": "stdout",
     "output_type": "stream",
     "text": [
      "Missing packages: torch-geometric, torch_sparse, sentence-transformers, faiss-cpu, scikit-learn, rouge-score\n",
      "Installing torch-geometric...\n",
      "Defaulting to user installation because normal site-packages is not writeable\n",
      "Requirement already satisfied: torch-geometric in /u/shwkir9t/.local/lib/python3.11/site-packages (2.6.1)\n",
      "Requirement already satisfied: aiohttp in /u/shwkir9t/.local/lib/python3.11/site-packages (from torch-geometric) (3.12.13)\n",
      "Requirement already satisfied: fsspec in /u/shwkir9t/.local/lib/python3.11/site-packages (from torch-geometric) (2025.5.1)\n",
      "Requirement already satisfied: jinja2 in /u/shwkir9t/.local/lib/python3.11/site-packages (from torch-geometric) (3.1.6)\n",
      "Requirement already satisfied: numpy in /u/shwkir9t/.local/lib/python3.11/site-packages (from torch-geometric) (2.3.1)\n",
      "Requirement already satisfied: psutil>=5.8.0 in /u/shwkir9t/.local/lib/python3.11/site-packages (from torch-geometric) (7.0.0)\n",
      "Requirement already satisfied: pyparsing in /u/shwkir9t/.local/lib/python3.11/site-packages (from torch-geometric) (3.2.3)\n",
      "Requirement already satisfied: requests in /u/shwkir9t/.local/lib/python3.11/site-packages (from torch-geometric) (2.32.4)\n",
      "Requirement already satisfied: tqdm in /u/shwkir9t/.local/lib/python3.11/site-packages (from torch-geometric) (4.67.1)\n",
      "Requirement already satisfied: aiohappyeyeballs>=2.5.0 in /u/shwkir9t/.local/lib/python3.11/site-packages (from aiohttp->torch-geometric) (2.6.1)\n",
      "Requirement already satisfied: aiosignal>=1.1.2 in /u/shwkir9t/.local/lib/python3.11/site-packages (from aiohttp->torch-geometric) (1.3.2)\n",
      "Requirement already satisfied: attrs>=17.3.0 in /u/shwkir9t/.local/lib/python3.11/site-packages (from aiohttp->torch-geometric) (25.3.0)\n",
      "Requirement already satisfied: frozenlist>=1.1.1 in /u/shwkir9t/.local/lib/python3.11/site-packages (from aiohttp->torch-geometric) (1.7.0)\n",
      "Requirement already satisfied: multidict<7.0,>=4.5 in /u/shwkir9t/.local/lib/python3.11/site-packages (from aiohttp->torch-geometric) (6.5.1)\n",
      "Requirement already satisfied: propcache>=0.2.0 in /u/shwkir9t/.local/lib/python3.11/site-packages (from aiohttp->torch-geometric) (0.3.2)\n",
      "Requirement already satisfied: yarl<2.0,>=1.17.0 in /u/shwkir9t/.local/lib/python3.11/site-packages (from aiohttp->torch-geometric) (1.20.1)\n",
      "Requirement already satisfied: MarkupSafe>=2.0 in /u/shwkir9t/.local/lib/python3.11/site-packages (from jinja2->torch-geometric) (3.0.2)\n",
      "Requirement already satisfied: charset_normalizer<4,>=2 in /u/shwkir9t/.local/lib/python3.11/site-packages (from requests->torch-geometric) (3.4.2)\n",
      "Requirement already satisfied: idna<4,>=2.5 in /u/shwkir9t/.local/lib/python3.11/site-packages (from requests->torch-geometric) (3.10)\n",
      "Requirement already satisfied: urllib3<3,>=1.21.1 in /u/shwkir9t/.local/lib/python3.11/site-packages (from requests->torch-geometric) (2.5.0)\n",
      "Requirement already satisfied: certifi>=2017.4.17 in /u/shwkir9t/.local/lib/python3.11/site-packages (from requests->torch-geometric) (2025.6.15)\n",
      "Installing torch_sparse...\n",
      "Defaulting to user installation because normal site-packages is not writeable\n",
      "Collecting torch_sparse\n",
      "  Using cached torch_sparse-0.6.18.tar.gz (209 kB)\n",
      "  Preparing metadata (setup.py): started\n",
      "  Preparing metadata (setup.py): finished with status 'done'\n",
      "Requirement already satisfied: scipy in /u/shwkir9t/.local/lib/python3.11/site-packages (from torch_sparse) (1.16.0)\n",
      "Requirement already satisfied: numpy<2.6,>=1.25.2 in /u/shwkir9t/.local/lib/python3.11/site-packages (from scipy->torch_sparse) (2.3.1)\n",
      "Installing collected packages: torch_sparse\n",
      "  Running setup.py install for torch_sparse: started\n"
     ]
    },
    {
     "name": "stderr",
     "output_type": "stream",
     "text": [
      "  DEPRECATION: torch_sparse is being installed using the legacy 'setup.py install' method, because it does not have a 'pyproject.toml' and the 'wheel' package is not installed. pip 23.1 will enforce this behaviour change. A possible replacement is to enable the '--use-pep517' option. Discussion can be found at https://github.com/pypa/pip/issues/8559\n"
     ]
    },
    {
     "name": "stdout",
     "output_type": "stream",
     "text": [
      "  Running setup.py install for torch_sparse: finished with status 'error'\n",
      "Failed to install torch_sparse: Command '['/usr/bin/python3.11', '-m', 'pip', 'install', 'torch_sparse']' returned non-zero exit status 1.\n",
      "Try installing torch_sparse manually with: pip install torch_sparse\n",
      "Installing sentence-transformers...\n"
     ]
    },
    {
     "name": "stderr",
     "output_type": "stream",
     "text": [
      "  error: subprocess-exited-with-error\n",
      "  \n",
      "  × Running setup.py install for torch_sparse did not run successfully.\n",
      "  │ exit code: 1\n",
      "  ╰─> [66 lines of output]\n",
      "      running install\n",
      "      /usr/lib/python3.11/site-packages/setuptools/command/install.py:34: SetuptoolsDeprecationWarning: setup.py install is deprecated. Use build and pip and other standards-based tools.\n",
      "        warnings.warn(\n",
      "      running build\n",
      "      running build_py\n",
      "      creating build\n",
      "      creating build/lib.linux-x86_64-cpython-311\n",
      "      creating build/lib.linux-x86_64-cpython-311/torch_sparse\n",
      "      copying torch_sparse/__init__.py -> build/lib.linux-x86_64-cpython-311/torch_sparse\n",
      "      copying torch_sparse/add.py -> build/lib.linux-x86_64-cpython-311/torch_sparse\n",
      "      copying torch_sparse/bandwidth.py -> build/lib.linux-x86_64-cpython-311/torch_sparse\n",
      "      copying torch_sparse/cat.py -> build/lib.linux-x86_64-cpython-311/torch_sparse\n",
      "      copying torch_sparse/coalesce.py -> build/lib.linux-x86_64-cpython-311/torch_sparse\n",
      "      copying torch_sparse/convert.py -> build/lib.linux-x86_64-cpython-311/torch_sparse\n",
      "      copying torch_sparse/diag.py -> build/lib.linux-x86_64-cpython-311/torch_sparse\n",
      "      copying torch_sparse/eye.py -> build/lib.linux-x86_64-cpython-311/torch_sparse\n",
      "      copying torch_sparse/index_select.py -> build/lib.linux-x86_64-cpython-311/torch_sparse\n",
      "      copying torch_sparse/masked_select.py -> build/lib.linux-x86_64-cpython-311/torch_sparse\n",
      "      copying torch_sparse/matmul.py -> build/lib.linux-x86_64-cpython-311/torch_sparse\n",
      "      copying torch_sparse/metis.py -> build/lib.linux-x86_64-cpython-311/torch_sparse\n",
      "      copying torch_sparse/mul.py -> build/lib.linux-x86_64-cpython-311/torch_sparse\n",
      "      copying torch_sparse/narrow.py -> build/lib.linux-x86_64-cpython-311/torch_sparse\n",
      "      copying torch_sparse/permute.py -> build/lib.linux-x86_64-cpython-311/torch_sparse\n",
      "      copying torch_sparse/reduce.py -> build/lib.linux-x86_64-cpython-311/torch_sparse\n",
      "      copying torch_sparse/rw.py -> build/lib.linux-x86_64-cpython-311/torch_sparse\n",
      "      copying torch_sparse/saint.py -> build/lib.linux-x86_64-cpython-311/torch_sparse\n",
      "      copying torch_sparse/sample.py -> build/lib.linux-x86_64-cpython-311/torch_sparse\n",
      "      copying torch_sparse/select.py -> build/lib.linux-x86_64-cpython-311/torch_sparse\n",
      "      copying torch_sparse/spadd.py -> build/lib.linux-x86_64-cpython-311/torch_sparse\n",
      "      copying torch_sparse/spmm.py -> build/lib.linux-x86_64-cpython-311/torch_sparse\n",
      "      copying torch_sparse/spspmm.py -> build/lib.linux-x86_64-cpython-311/torch_sparse\n",
      "      copying torch_sparse/storage.py -> build/lib.linux-x86_64-cpython-311/torch_sparse\n",
      "      copying torch_sparse/tensor.py -> build/lib.linux-x86_64-cpython-311/torch_sparse\n",
      "      copying torch_sparse/testing.py -> build/lib.linux-x86_64-cpython-311/torch_sparse\n",
      "      copying torch_sparse/transpose.py -> build/lib.linux-x86_64-cpython-311/torch_sparse\n",
      "      copying torch_sparse/typing.py -> build/lib.linux-x86_64-cpython-311/torch_sparse\n",
      "      copying torch_sparse/utils.py -> build/lib.linux-x86_64-cpython-311/torch_sparse\n",
      "      running egg_info\n",
      "      writing torch_sparse.egg-info/PKG-INFO\n",
      "      writing dependency_links to torch_sparse.egg-info/dependency_links.txt\n",
      "      writing requirements to torch_sparse.egg-info/requires.txt\n",
      "      writing top-level names to torch_sparse.egg-info/top_level.txt\n",
      "      /u/shwkir9t/.local/lib/python3.11/site-packages/torch/utils/cpp_extension.py:576: UserWarning: Attempted to use ninja as the BuildExtension backend but we could not find ninja.. Falling back to using the slow distutils backend.\n",
      "        warnings.warn(msg.format('we could not find ninja.'))\n",
      "      reading manifest file 'torch_sparse.egg-info/SOURCES.txt'\n",
      "      reading manifest template 'MANIFEST.in'\n",
      "      warning: no previously-included files matching '*' found under directory 'third_party/parallel-hashmap/css'\n",
      "      warning: no previously-included files matching '*' found under directory 'third_party/parallel-hashmap/html'\n",
      "      warning: no previously-included files matching '*' found under directory 'third_party/parallel-hashmap/tests'\n",
      "      warning: no previously-included files matching '*' found under directory 'third_party/parallel-hashmap/examples'\n",
      "      warning: no previously-included files matching '*' found under directory 'third_party/parallel-hashmap/benchmark'\n",
      "      warning: no previously-included files matching '*' found under directory 'test'\n",
      "      warning: no previously-included files matching '*' found under directory 'benchmark'\n",
      "      adding license file 'LICENSE'\n",
      "      writing manifest file 'torch_sparse.egg-info/SOURCES.txt'\n",
      "      running build_ext\n",
      "      building 'torch_sparse._convert_cpu' extension\n",
      "      creating build/temp.linux-x86_64-cpython-311\n",
      "      creating build/temp.linux-x86_64-cpython-311/csrc\n",
      "      creating build/temp.linux-x86_64-cpython-311/csrc/cpu\n",
      "      gcc -pthread -Wsign-compare -DDYNAMIC_ANNOTATIONS_ENABLED=1 -DNDEBUG -O2 -g -pipe -Wall -Werror=format-security -Wp,-D_FORTIFY_SOURCE=2 -Wp,-D_GLIBCXX_ASSERTIONS -fexceptions -fstack-protector-strong -grecord-gcc-switches -m64 -mtune=generic -fasynchronous-unwind-tables -fstack-clash-protection -fcf-protection -D_GNU_SOURCE -fPIC -fwrapv -O2 -g -pipe -Wall -Werror=format-security -Wp,-D_FORTIFY_SOURCE=2 -Wp,-D_GLIBCXX_ASSERTIONS -fexceptions -fstack-protector-strong -grecord-gcc-switches -m64 -mtune=generic -fasynchronous-unwind-tables -fstack-clash-protection -fcf-protection -D_GNU_SOURCE -fPIC -fwrapv -O2 -g -pipe -Wall -Werror=format-security -Wp,-D_FORTIFY_SOURCE=2 -Wp,-D_GLIBCXX_ASSERTIONS -fexceptions -fstack-protector-strong -grecord-gcc-switches -m64 -mtune=generic -fasynchronous-unwind-tables -fstack-clash-protection -fcf-protection -D_GNU_SOURCE -fPIC -fwrapv -fPIC -DWITH_PYTHON -Icsrc -I/tmp/pip-install-6xawt1km/torch-sparse_0f9642c89c22402682124a9965e0645b/third_party/parallel-hashmap -I/u/shwkir9t/.local/lib/python3.11/site-packages/torch/include -I/u/shwkir9t/.local/lib/python3.11/site-packages/torch/include/torch/csrc/api/include -I/usr/include/python3.11 -c csrc/convert.cpp -o build/temp.linux-x86_64-cpython-311/csrc/convert.o -O3 -Wno-sign-compare -DAT_PARALLEL_OPENMP -fopenmp -DTORCH_API_INCLUDE_EXTENSION_H -DPYBIND11_COMPILER_TYPE=\\\"_gcc\\\" -DPYBIND11_STDLIB=\\\"_libstdcpp\\\" -DPYBIND11_BUILD_ABI=\\\"_cxxabi1016\\\" -DTORCH_EXTENSION_NAME=_convert_cpu -D_GLIBCXX_USE_CXX11_ABI=1 -std=c++17\n",
      "      csrc/convert.cpp:2:10: fatal error: Python.h: No such file or directory\n",
      "       #include <Python.h>\n",
      "                ^~~~~~~~~~\n",
      "      compilation terminated.\n",
      "      error: command '/usr/bin/gcc' failed with exit code 1\n",
      "      [end of output]\n",
      "  \n",
      "  note: This error originates from a subprocess, and is likely not a problem with pip.\n",
      "error: legacy-install-failure\n",
      "\n",
      "× Encountered error while trying to install package.\n",
      "╰─> torch_sparse\n",
      "\n",
      "note: This is an issue with the package mentioned above, not pip.\n",
      "hint: See above for output from the failure.\n"
     ]
    },
    {
     "name": "stdout",
     "output_type": "stream",
     "text": [
      "Defaulting to user installation because normal site-packages is not writeable\n",
      "Requirement already satisfied: sentence-transformers in /u/shwkir9t/.local/lib/python3.11/site-packages (4.1.0)\n",
      "Requirement already satisfied: transformers<5.0.0,>=4.41.0 in /u/shwkir9t/.local/lib/python3.11/site-packages (from sentence-transformers) (4.52.4)\n",
      "Requirement already satisfied: tqdm in /u/shwkir9t/.local/lib/python3.11/site-packages (from sentence-transformers) (4.67.1)\n",
      "Requirement already satisfied: torch>=1.11.0 in /u/shwkir9t/.local/lib/python3.11/site-packages (from sentence-transformers) (2.7.1)\n",
      "Requirement already satisfied: scikit-learn in /u/shwkir9t/.local/lib/python3.11/site-packages (from sentence-transformers) (1.7.0)\n",
      "Requirement already satisfied: scipy in /u/shwkir9t/.local/lib/python3.11/site-packages (from sentence-transformers) (1.16.0)\n",
      "Requirement already satisfied: huggingface-hub>=0.20.0 in /u/shwkir9t/.local/lib/python3.11/site-packages (from sentence-transformers) (0.33.1)\n",
      "Requirement already satisfied: Pillow in /u/shwkir9t/.local/lib/python3.11/site-packages (from sentence-transformers) (11.2.1)\n",
      "Requirement already satisfied: typing_extensions>=4.5.0 in /u/shwkir9t/.local/lib/python3.11/site-packages (from sentence-transformers) (4.14.0)\n",
      "Requirement already satisfied: filelock in /u/shwkir9t/.local/lib/python3.11/site-packages (from huggingface-hub>=0.20.0->sentence-transformers) (3.18.0)\n",
      "Requirement already satisfied: fsspec>=2023.5.0 in /u/shwkir9t/.local/lib/python3.11/site-packages (from huggingface-hub>=0.20.0->sentence-transformers) (2025.5.1)\n",
      "Requirement already satisfied: packaging>=20.9 in /u/shwkir9t/.local/lib/python3.11/site-packages (from huggingface-hub>=0.20.0->sentence-transformers) (25.0)\n",
      "Requirement already satisfied: pyyaml>=5.1 in /u/shwkir9t/.local/lib/python3.11/site-packages (from huggingface-hub>=0.20.0->sentence-transformers) (6.0.2)\n",
      "Requirement already satisfied: requests in /u/shwkir9t/.local/lib/python3.11/site-packages (from huggingface-hub>=0.20.0->sentence-transformers) (2.32.4)\n",
      "Requirement already satisfied: hf-xet<2.0.0,>=1.1.2 in /u/shwkir9t/.local/lib/python3.11/site-packages (from huggingface-hub>=0.20.0->sentence-transformers) (1.1.5)\n",
      "Requirement already satisfied: sympy>=1.13.3 in /u/shwkir9t/.local/lib/python3.11/site-packages (from torch>=1.11.0->sentence-transformers) (1.14.0)\n",
      "Requirement already satisfied: networkx in /u/shwkir9t/.local/lib/python3.11/site-packages (from torch>=1.11.0->sentence-transformers) (3.5)\n",
      "Requirement already satisfied: jinja2 in /u/shwkir9t/.local/lib/python3.11/site-packages (from torch>=1.11.0->sentence-transformers) (3.1.6)\n",
      "Requirement already satisfied: nvidia-cuda-nvrtc-cu12==12.6.77 in /u/shwkir9t/.local/lib/python3.11/site-packages (from torch>=1.11.0->sentence-transformers) (12.6.77)\n",
      "Requirement already satisfied: nvidia-cuda-runtime-cu12==12.6.77 in /u/shwkir9t/.local/lib/python3.11/site-packages (from torch>=1.11.0->sentence-transformers) (12.6.77)\n",
      "Requirement already satisfied: nvidia-cuda-cupti-cu12==12.6.80 in /u/shwkir9t/.local/lib/python3.11/site-packages (from torch>=1.11.0->sentence-transformers) (12.6.80)\n",
      "Requirement already satisfied: nvidia-cudnn-cu12==9.5.1.17 in /u/shwkir9t/.local/lib/python3.11/site-packages (from torch>=1.11.0->sentence-transformers) (9.5.1.17)\n",
      "Requirement already satisfied: nvidia-cublas-cu12==12.6.4.1 in /u/shwkir9t/.local/lib/python3.11/site-packages (from torch>=1.11.0->sentence-transformers) (12.6.4.1)\n",
      "Requirement already satisfied: nvidia-cufft-cu12==11.3.0.4 in /u/shwkir9t/.local/lib/python3.11/site-packages (from torch>=1.11.0->sentence-transformers) (11.3.0.4)\n",
      "Requirement already satisfied: nvidia-curand-cu12==10.3.7.77 in /u/shwkir9t/.local/lib/python3.11/site-packages (from torch>=1.11.0->sentence-transformers) (10.3.7.77)\n",
      "Requirement already satisfied: nvidia-cusolver-cu12==11.7.1.2 in /u/shwkir9t/.local/lib/python3.11/site-packages (from torch>=1.11.0->sentence-transformers) (11.7.1.2)\n",
      "Requirement already satisfied: nvidia-cusparse-cu12==12.5.4.2 in /u/shwkir9t/.local/lib/python3.11/site-packages (from torch>=1.11.0->sentence-transformers) (12.5.4.2)\n",
      "Requirement already satisfied: nvidia-cusparselt-cu12==0.6.3 in /u/shwkir9t/.local/lib/python3.11/site-packages (from torch>=1.11.0->sentence-transformers) (0.6.3)\n",
      "Requirement already satisfied: nvidia-nccl-cu12==2.26.2 in /u/shwkir9t/.local/lib/python3.11/site-packages (from torch>=1.11.0->sentence-transformers) (2.26.2)\n",
      "Requirement already satisfied: nvidia-nvtx-cu12==12.6.77 in /u/shwkir9t/.local/lib/python3.11/site-packages (from torch>=1.11.0->sentence-transformers) (12.6.77)\n",
      "Requirement already satisfied: nvidia-nvjitlink-cu12==12.6.85 in /u/shwkir9t/.local/lib/python3.11/site-packages (from torch>=1.11.0->sentence-transformers) (12.6.85)\n",
      "Requirement already satisfied: nvidia-cufile-cu12==1.11.1.6 in /u/shwkir9t/.local/lib/python3.11/site-packages (from torch>=1.11.0->sentence-transformers) (1.11.1.6)\n",
      "Requirement already satisfied: triton==3.3.1 in /u/shwkir9t/.local/lib/python3.11/site-packages (from torch>=1.11.0->sentence-transformers) (3.3.1)\n",
      "Requirement already satisfied: setuptools>=40.8.0 in /usr/lib/python3.11/site-packages (from triton==3.3.1->torch>=1.11.0->sentence-transformers) (65.5.1)\n",
      "Requirement already satisfied: numpy>=1.17 in /u/shwkir9t/.local/lib/python3.11/site-packages (from transformers<5.0.0,>=4.41.0->sentence-transformers) (2.3.1)\n",
      "Requirement already satisfied: regex!=2019.12.17 in /u/shwkir9t/.local/lib/python3.11/site-packages (from transformers<5.0.0,>=4.41.0->sentence-transformers) (2024.11.6)\n",
      "Requirement already satisfied: tokenizers<0.22,>=0.21 in /u/shwkir9t/.local/lib/python3.11/site-packages (from transformers<5.0.0,>=4.41.0->sentence-transformers) (0.21.2)\n",
      "Requirement already satisfied: safetensors>=0.4.3 in /u/shwkir9t/.local/lib/python3.11/site-packages (from transformers<5.0.0,>=4.41.0->sentence-transformers) (0.5.3)\n",
      "Requirement already satisfied: joblib>=1.2.0 in /u/shwkir9t/.local/lib/python3.11/site-packages (from scikit-learn->sentence-transformers) (1.5.1)\n",
      "Requirement already satisfied: threadpoolctl>=3.1.0 in /u/shwkir9t/.local/lib/python3.11/site-packages (from scikit-learn->sentence-transformers) (3.6.0)\n",
      "Requirement already satisfied: mpmath<1.4,>=1.1.0 in /u/shwkir9t/.local/lib/python3.11/site-packages (from sympy>=1.13.3->torch>=1.11.0->sentence-transformers) (1.3.0)\n",
      "Requirement already satisfied: MarkupSafe>=2.0 in /u/shwkir9t/.local/lib/python3.11/site-packages (from jinja2->torch>=1.11.0->sentence-transformers) (3.0.2)\n",
      "Requirement already satisfied: charset_normalizer<4,>=2 in /u/shwkir9t/.local/lib/python3.11/site-packages (from requests->huggingface-hub>=0.20.0->sentence-transformers) (3.4.2)\n",
      "Requirement already satisfied: idna<4,>=2.5 in /u/shwkir9t/.local/lib/python3.11/site-packages (from requests->huggingface-hub>=0.20.0->sentence-transformers) (3.10)\n",
      "Requirement already satisfied: urllib3<3,>=1.21.1 in /u/shwkir9t/.local/lib/python3.11/site-packages (from requests->huggingface-hub>=0.20.0->sentence-transformers) (2.5.0)\n",
      "Requirement already satisfied: certifi>=2017.4.17 in /u/shwkir9t/.local/lib/python3.11/site-packages (from requests->huggingface-hub>=0.20.0->sentence-transformers) (2025.6.15)\n",
      "Installing faiss-cpu...\n",
      "Defaulting to user installation because normal site-packages is not writeable\n",
      "Requirement already satisfied: faiss-cpu in /u/shwkir9t/.local/lib/python3.11/site-packages (1.11.0)\n",
      "Requirement already satisfied: numpy<3.0,>=1.25.0 in /u/shwkir9t/.local/lib/python3.11/site-packages (from faiss-cpu) (2.3.1)\n",
      "Requirement already satisfied: packaging in /u/shwkir9t/.local/lib/python3.11/site-packages (from faiss-cpu) (25.0)\n",
      "Installing scikit-learn...\n",
      "Defaulting to user installation because normal site-packages is not writeable\n",
      "Requirement already satisfied: scikit-learn in /u/shwkir9t/.local/lib/python3.11/site-packages (1.7.0)\n",
      "Requirement already satisfied: numpy>=1.22.0 in /u/shwkir9t/.local/lib/python3.11/site-packages (from scikit-learn) (2.3.1)\n",
      "Requirement already satisfied: scipy>=1.8.0 in /u/shwkir9t/.local/lib/python3.11/site-packages (from scikit-learn) (1.16.0)\n",
      "Requirement already satisfied: joblib>=1.2.0 in /u/shwkir9t/.local/lib/python3.11/site-packages (from scikit-learn) (1.5.1)\n",
      "Requirement already satisfied: threadpoolctl>=3.1.0 in /u/shwkir9t/.local/lib/python3.11/site-packages (from scikit-learn) (3.6.0)\n",
      "Installing rouge-score...\n",
      "Defaulting to user installation because normal site-packages is not writeable\n",
      "Requirement already satisfied: rouge-score in /u/shwkir9t/.local/lib/python3.11/site-packages (0.1.2)\n",
      "Requirement already satisfied: absl-py in /u/shwkir9t/.local/lib/python3.11/site-packages (from rouge-score) (2.3.0)\n",
      "Requirement already satisfied: nltk in /u/shwkir9t/.local/lib/python3.11/site-packages (from rouge-score) (3.9.1)\n",
      "Requirement already satisfied: numpy in /u/shwkir9t/.local/lib/python3.11/site-packages (from rouge-score) (2.3.1)\n",
      "Requirement already satisfied: six>=1.14.0 in /u/shwkir9t/.local/lib/python3.11/site-packages (from rouge-score) (1.17.0)\n",
      "Requirement already satisfied: click in /u/shwkir9t/.local/lib/python3.11/site-packages (from nltk->rouge-score) (8.2.1)\n",
      "Requirement already satisfied: joblib in /u/shwkir9t/.local/lib/python3.11/site-packages (from nltk->rouge-score) (1.5.1)\n",
      "Requirement already satisfied: regex>=2021.8.3 in /u/shwkir9t/.local/lib/python3.11/site-packages (from nltk->rouge-score) (2024.11.6)\n",
      "Requirement already satisfied: tqdm in /u/shwkir9t/.local/lib/python3.11/site-packages (from nltk->rouge-score) (4.67.1)\n",
      "\n",
      "Note: You may need to restart the kernel for changes to take effect.\n",
      "faiss-cpu successfully imported (version: 1.11.0)\n"
     ]
    }
   ],
   "source": [
    "import sys\n",
    "import os\n",
    "import subprocess\n",
    "import pkg_resources\n",
    "\n",
    "# Define required packages\n",
    "required_packages = [\n",
    "    'torch',\n",
    "    'torch-geometric',\n",
    "    'torch_sparse',\n",
    "    'transformers', \n",
    "    'sentence-transformers',\n",
    "    'faiss-cpu',\n",
    "    'pandas',\n",
    "    'numpy',\n",
    "    'networkx',\n",
    "    'scikit-learn',\n",
    "    'rouge-score',\n",
    "    'tqdm',\n",
    "    'ipywidgets',\n",
    "    'ipykernel',\n",
    "    'matplotlib'\n",
    "]\n",
    "\n",
    "def install_package(package):\n",
    "    print(f\"Installing {package}...\")\n",
    "    subprocess.check_call([sys.executable, '-m', 'pip', 'install', package])\n",
    "\n",
    "# Check for missing packages and install them\n",
    "installed = {pkg.key for pkg in pkg_resources.working_set}\n",
    "missing = []\n",
    "\n",
    "for package in required_packages:\n",
    "    package_name = package.split('>=')[0].strip() if '>=' in package else package\n",
    "    if package_name.replace('-', '_') not in installed:\n",
    "        missing.append(package)\n",
    "\n",
    "if missing:\n",
    "    print(f\"Missing packages: {', '.join(missing)}\")\n",
    "    for package in missing:\n",
    "        try:\n",
    "            install_package(package)\n",
    "        except Exception as e:\n",
    "            print(f\"Failed to install {package}: {str(e)}\")\n",
    "            print(f\"Try installing {package} manually with: pip install {package}\")\n",
    "    print(\"\\nNote: You may need to restart the kernel for changes to take effect.\")\n",
    "else:\n",
    "    print(\"All required packages already installed!\")\n",
    "\n",
    "# Special check for faiss-cpu since it's critical\n",
    "try:\n",
    "    import faiss\n",
    "    print(f\"faiss-cpu successfully imported (version: {faiss.__version__})\")\n",
    "except ImportError:\n",
    "    print(\"faiss-cpu not found, installing...\")\n",
    "    try:\n",
    "        install_package('faiss-cpu')\n",
    "        print(\"Please restart the kernel after installation completes\")\n",
    "    except Exception as e:\n",
    "        print(f\"Failed to install faiss-cpu: {str(e)}\")\n",
    "        print(\"Try installing manually with: pip install faiss-cpu\")"
   ]
  },
  {
   "cell_type": "code",
   "execution_count": 2,
   "id": "419bcf09",
   "metadata": {},
   "outputs": [
    {
     "name": "stdout",
     "output_type": "stream",
     "text": [
      "✅ Core dependencies loaded successfully!\n"
     ]
    }
   ],
   "source": [
    "# Check if dependencies are available before continuing\n",
    "try:\n",
    "    import torch\n",
    "    import numpy as np\n",
    "    import pandas as pd\n",
    "    import networkx as nx\n",
    "    import ipywidgets as widgets\n",
    "    from IPython.display import display, Markdown\n",
    "    print(\"✅ Core dependencies loaded successfully!\")\n",
    "except ImportError as e:\n",
    "    print(f\"❌ Error importing dependencies: {str(e)}\")\n",
    "    print(\"Please install missing packages and restart the notebook kernel.\")"
   ]
  },
  {
   "cell_type": "code",
   "execution_count": 3,
   "id": "aed3f3b7",
   "metadata": {},
   "outputs": [
    {
     "name": "stdout",
     "output_type": "stream",
     "text": [
      "✅ Successfully imported CardiologyLightRAG!\n"
     ]
    }
   ],
   "source": [
    "# Add the parent directory to path so we can import modules from there\n",
    "import sys\n",
    "import os\n",
    "if os.path.abspath('..') not in sys.path:\n",
    "    sys.path.append(os.path.abspath('..'))\n",
    "\n",
    "# Try importing the CardiologyLightRAG class with error handling\n",
    "try:\n",
    "    from pipeline import CardiologyLightRAG\n",
    "    print(\"✅ Successfully imported CardiologyLightRAG!\")\n",
    "except ImportError as e:\n",
    "    print(f\"❌ Error importing CardiologyLightRAG: {str(e)}\")\n",
    "    print(\"This might be due to missing dependencies or issues with the pipeline module.\")\n",
    "    import traceback\n",
    "    traceback.print_exc()\n",
    "\n",
    "import time"
   ]
  },
  {
   "cell_type": "code",
   "execution_count": null,
   "id": "3030ceb3",
   "metadata": {},
   "outputs": [],
   "source": []
  },
  {
   "cell_type": "code",
   "execution_count": 4,
   "id": "38c043ff",
   "metadata": {},
   "outputs": [
    {
     "name": "stdout",
     "output_type": "stream",
     "text": [
      "Initializing CardiologyLightRAG system...\n",
      "Initializing Cardiology LightRAG system...\n",
      "Using device: cuda\n",
      "Loading retrieval system...\n"
     ]
    },
    {
     "name": "stderr",
     "output_type": "stream",
     "text": [
      "No sentence-transformers model found with name dmis-lab/biobert-v1.1. Creating a new one with mean pooling.\n"
     ]
    },
    {
     "name": "stdout",
     "output_type": "stream",
     "text": [
      "Loading knowledge graph components...\n",
      "Subgraph extractor using device: cuda\n",
      "Loading integrated knowledge graph...\n",
      "Knowledge graph loaded with 3454254 nodes and 6648456 edges\n",
      "Creating node and relation mappings...\n",
      "Created mappings for 3454254 nodes and 10 relation types\n",
      "Loading GNN model for path selection...\n",
      "No pre-trained GNN model found. Using untrained model.\n",
      "Loading generator and validation components...\n",
      "Loading AutoTokenizer and AutoModelForCausalLM...\n",
      "Generation parameters set: attention_mask=True, pad_token_id=50256\n"
     ]
    },
    {
     "name": "stderr",
     "output_type": "stream",
     "text": [
      "Device set to use cpu\n",
      "Device set to use cpu\n"
     ]
    },
    {
     "name": "stdout",
     "output_type": "stream",
     "text": [
      "TraceabilityLogger: Successfully loaded original knowledge graph\n",
      "Subgraph extractor using device: cuda\n",
      "Loading integrated knowledge graph...\n",
      "Knowledge graph loaded with 3454254 nodes and 6648456 edges\n",
      "Creating node and relation mappings...\n",
      "Created mappings for 3454254 nodes and 10 relation types\n",
      "Cardiology LightRAG system initialized and ready!\n",
      "✅ System initialized successfully!\n"
     ]
    }
   ],
   "source": [
    "# Initialize system with error handling\n",
    "try:\n",
    "    print(\"Initializing CardiologyLightRAG system...\")\n",
    "    # Remove the device argument, as HybridRetriever does not accept it\n",
    "    system = CardiologyLightRAG()\n",
    "    print(\"✅ System initialized successfully!\")\n",
    "except Exception as e:\n",
    "    print(f\"❌ Error initializing CardiologyLightRAG: {str(e)}\")\n",
    "    print(\"\\nTroubleshooting tips:\")\n",
    "    print(\"1. Check if all dependencies are installed\")\n",
    "    print(\"2. Verify that model files exist in the expected directories\")\n",
    "    print(\"3. Look for any error messages above that might indicate specific issues\")\n",
    "    import traceback\n",
    "    traceback.print_exc()\n",
    "    # Create a dummy system for UI to work\n",
    "    class DummySystem:\n",
    "        def process_query(self, query, patient_context):\n",
    "            return (\"Error: System could not be initialized. Please fix the issues above.\",\n",
    "                    \"No explanation available.\")\n",
    "    system = DummySystem()"
   ]
  },
  {
   "cell_type": "code",
   "execution_count": 5,
   "id": "5cebdcd5",
   "metadata": {},
   "outputs": [],
   "source": [
    "# Create UI components\n",
    "question_input = widgets.Textarea(\n",
    "    value='What are the first-line treatments for stable angina?',\n",
    "    placeholder='Enter a cardiology-related question...',\n",
    "    description='Question:',\n",
    "    layout={'width': '90%', 'height': '100px'}\n",
    ")"
   ]
  },
  {
   "cell_type": "code",
   "execution_count": 6,
   "id": "b46104c2",
   "metadata": {},
   "outputs": [],
   "source": [
    "patient_context = widgets.Textarea(\n",
    "    value='Patient has diabetes and hypertension',\n",
    "    placeholder='Enter patient context (conditions, allergies, meds)...',\n",
    "    description='Patient:',\n",
    "    layout={'width': '90%', 'height': '80px'}\n",
    ")"
   ]
  },
  {
   "cell_type": "code",
   "execution_count": 7,
   "id": "1fab15f6",
   "metadata": {
    "lines_to_next_cell": 1
   },
   "outputs": [],
   "source": [
    "submit_btn = widgets.Button(description=\"Get Clinical Answer\", button_style='success')\n",
    "output_area = widgets.Output()\n",
    "explanation_area = widgets.Output()"
   ]
  },
  {
   "cell_type": "code",
   "execution_count": 8,
   "id": "66c1cb2a",
   "metadata": {
    "lines_to_next_cell": 1
   },
   "outputs": [],
   "source": [
    "def on_submit_clicked(b):\n",
    "    with output_area:\n",
    "        output_area.clear_output()\n",
    "        explanation_area.clear_output()\n",
    "        \n",
    "        start_time = time.time()\n",
    "        print(\"Processing your cardiology query...\")\n",
    "        \n",
    "        try:\n",
    "            # Process query - convert patient_context text to a structured format\n",
    "            patient_text = patient_context.value.strip()\n",
    "            # Convert simple text to the expected dictionary format\n",
    "            patient_data = {\n",
    "                \"description\": patient_text,\n",
    "                \"conditions\": [],\n",
    "                \"medications\": [],\n",
    "                \"allergies\": []\n",
    "            }\n",
    "            \n",
    "            # Extract conditions, medications, allergies if explicitly mentioned\n",
    "            if \"diabetes\" in patient_text.lower():\n",
    "                patient_data[\"conditions\"].append(\"diabetes\")\n",
    "            if \"hypertension\" in patient_text.lower():\n",
    "                patient_data[\"conditions\"].append(\"hypertension\")\n",
    "                \n",
    "            answer, explanation = system.process_query(\n",
    "                question_input.value, \n",
    "                patient_data\n",
    "            )\n",
    "            \n",
    "            end_time = time.time()\n",
    "            duration = end_time - start_time\n",
    "            \n",
    "            # Display results\n",
    "            display(Markdown(f\"### Clinical Answer\"))\n",
    "            display(Markdown(f\"{answer}\"))\n",
    "            display(Markdown(f\"*Generated in {duration:.2f} seconds*\"))\n",
    "            \n",
    "            # Show explanation\n",
    "            with explanation_area:\n",
    "                display(Markdown(f\"### Clinical Reasoning Report\"))\n",
    "                display(Markdown(explanation))\n",
    "                \n",
    "        except Exception as e:\n",
    "            display(Markdown(f\"### Error\"))\n",
    "            display(Markdown(f\"An error occurred: {str(e)}\"))\n",
    "            display(Markdown(\"Please check that all dependencies are installed correctly.\"))\n",
    "            import traceback\n",
    "            traceback.print_exc()"
   ]
  },
  {
   "cell_type": "code",
   "execution_count": 9,
   "id": "7198924d",
   "metadata": {},
   "outputs": [],
   "source": [
    "submit_btn.on_click(on_submit_clicked)"
   ]
  },
  {
   "cell_type": "code",
   "execution_count": 10,
   "id": "adcf7a42",
   "metadata": {},
   "outputs": [
    {
     "data": {
      "application/vnd.jupyter.widget-view+json": {
       "model_id": "276d1ce9422f4b8fbc6626009ae3d7bd",
       "version_major": 2,
       "version_minor": 0
      },
      "text/plain": [
       "VBox(children=(HTML(value='<h1>Cardiology LightRAG Clinical QA System</h1>'), HTML(value='<p>Ask cardiology-re…"
      ]
     },
     "metadata": {},
     "output_type": "display_data"
    }
   ],
   "source": [
    "# Display UI\n",
    "display(widgets.VBox([\n",
    "    widgets.HTML(\"<h1>Cardiology LightRAG Clinical QA System</h1>\"),\n",
    "    widgets.HTML(\"<p>Ask cardiology-related questions with patient-specific context</p>\"),\n",
    "    question_input,\n",
    "    patient_context,\n",
    "    submit_btn,\n",
    "    output_area,\n",
    "    explanation_area\n",
    "]))"
   ]
  },
  {
   "cell_type": "code",
   "execution_count": 11,
   "id": "bdcfb881",
   "metadata": {},
   "outputs": [
    {
     "name": "stdout",
     "output_type": "stream",
     "text": [
      "RGCNReasoner imported successfully!\n",
      "Expected arguments for RGCNReasoner.__init__():\n",
      "(self, num_nodes, num_relations, embedding_dim=128, hidden_dim=256, num_bases=None, dropout=0.2, **kwargs)\n"
     ]
    }
   ],
   "source": [
    "# Verify the expected arguments for RGCNReasoner.__init__\n",
    "from inspect import signature\n",
    "try:\n",
    "    from gnn.rgcn_model import RGCNReasoner\n",
    "    print('RGCNReasoner imported successfully!')\n",
    "    print('Expected arguments for RGCNReasoner.__init__():')\n",
    "    print(signature(RGCNReasoner.__init__))\n",
    "except ImportError as e:\n",
    "    print(f'Error importing RGCNReasoner: {str(e)}')\n",
    "    print('Ensure the gnn module is correctly installed and accessible.')\n",
    "except Exception as e:\n",
    "    print(f'Unexpected error: {str(e)}')"
   ]
  }
 ],
 "metadata": {
  "jupytext": {
   "cell_metadata_filter": "-all",
   "main_language": "python",
   "notebook_metadata_filter": "-all"
  },
  "kernelspec": {
   "display_name": "Python 3",
   "language": "python",
   "name": "python3"
  },
  "language_info": {
   "codemirror_mode": {
    "name": "ipython",
    "version": 3
   },
   "file_extension": ".py",
   "mimetype": "text/x-python",
   "name": "python",
   "nbconvert_exporter": "python",
   "pygments_lexer": "ipython3",
   "version": "3.11.11"
  }
 },
 "nbformat": 4,
 "nbformat_minor": 5
}
